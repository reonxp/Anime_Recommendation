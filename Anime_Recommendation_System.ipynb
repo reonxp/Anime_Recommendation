{
  "nbformat": 4,
  "nbformat_minor": 0,
  "metadata": {
    "colab": {
      "provenance": []
    },
    "kernelspec": {
      "name": "python3",
      "display_name": "Python 3"
    },
    "language_info": {
      "name": "python"
    },
    "widgets": {
      "application/vnd.jupyter.widget-state+json": {
        "88e919b6be344b63aac17f843e2c68f1": {
          "model_module": "@jupyter-widgets/controls",
          "model_name": "HBoxModel",
          "model_module_version": "1.5.0",
          "state": {
            "_dom_classes": [],
            "_model_module": "@jupyter-widgets/controls",
            "_model_module_version": "1.5.0",
            "_model_name": "HBoxModel",
            "_view_count": null,
            "_view_module": "@jupyter-widgets/controls",
            "_view_module_version": "1.5.0",
            "_view_name": "HBoxView",
            "box_style": "",
            "children": [
              "IPY_MODEL_99b1c1c8b448473ea289b9d08cd07502",
              "IPY_MODEL_adfed4e1ccbb444285573ab45dfa2a88",
              "IPY_MODEL_46ce5fa3396f451c900845b45b49cc95"
            ],
            "layout": "IPY_MODEL_d76a914027ad40719716f001cd9bfc2f"
          }
        },
        "99b1c1c8b448473ea289b9d08cd07502": {
          "model_module": "@jupyter-widgets/controls",
          "model_name": "HTMLModel",
          "model_module_version": "1.5.0",
          "state": {
            "_dom_classes": [],
            "_model_module": "@jupyter-widgets/controls",
            "_model_module_version": "1.5.0",
            "_model_name": "HTMLModel",
            "_view_count": null,
            "_view_module": "@jupyter-widgets/controls",
            "_view_module_version": "1.5.0",
            "_view_name": "HTMLView",
            "description": "",
            "description_tooltip": null,
            "layout": "IPY_MODEL_88b89c787ee14ac38024df0e57017b2e",
            "placeholder": "​",
            "style": "IPY_MODEL_d3b1625483c343ad9b2c45f441d01f2b",
            "value": "Mengevaluasi Pengguna: 100%"
          }
        },
        "adfed4e1ccbb444285573ab45dfa2a88": {
          "model_module": "@jupyter-widgets/controls",
          "model_name": "FloatProgressModel",
          "model_module_version": "1.5.0",
          "state": {
            "_dom_classes": [],
            "_model_module": "@jupyter-widgets/controls",
            "_model_module_version": "1.5.0",
            "_model_name": "FloatProgressModel",
            "_view_count": null,
            "_view_module": "@jupyter-widgets/controls",
            "_view_module_version": "1.5.0",
            "_view_name": "ProgressView",
            "bar_style": "success",
            "description": "",
            "description_tooltip": null,
            "layout": "IPY_MODEL_0fcef4a77b0542e5be8c2c9bc2106cca",
            "max": 500,
            "min": 0,
            "orientation": "horizontal",
            "style": "IPY_MODEL_5c81f696e9c04d63961be1c3d3ccb354",
            "value": 500
          }
        },
        "46ce5fa3396f451c900845b45b49cc95": {
          "model_module": "@jupyter-widgets/controls",
          "model_name": "HTMLModel",
          "model_module_version": "1.5.0",
          "state": {
            "_dom_classes": [],
            "_model_module": "@jupyter-widgets/controls",
            "_model_module_version": "1.5.0",
            "_model_name": "HTMLModel",
            "_view_count": null,
            "_view_module": "@jupyter-widgets/controls",
            "_view_module_version": "1.5.0",
            "_view_name": "HTMLView",
            "description": "",
            "description_tooltip": null,
            "layout": "IPY_MODEL_2d80404cb84f4431830145da9b2fedf7",
            "placeholder": "​",
            "style": "IPY_MODEL_9b13b82f8c804811bff09356a72e682c",
            "value": " 500/500 [00:21&lt;00:00, 17.81it/s]"
          }
        },
        "d76a914027ad40719716f001cd9bfc2f": {
          "model_module": "@jupyter-widgets/base",
          "model_name": "LayoutModel",
          "model_module_version": "1.2.0",
          "state": {
            "_model_module": "@jupyter-widgets/base",
            "_model_module_version": "1.2.0",
            "_model_name": "LayoutModel",
            "_view_count": null,
            "_view_module": "@jupyter-widgets/base",
            "_view_module_version": "1.2.0",
            "_view_name": "LayoutView",
            "align_content": null,
            "align_items": null,
            "align_self": null,
            "border": null,
            "bottom": null,
            "display": null,
            "flex": null,
            "flex_flow": null,
            "grid_area": null,
            "grid_auto_columns": null,
            "grid_auto_flow": null,
            "grid_auto_rows": null,
            "grid_column": null,
            "grid_gap": null,
            "grid_row": null,
            "grid_template_areas": null,
            "grid_template_columns": null,
            "grid_template_rows": null,
            "height": null,
            "justify_content": null,
            "justify_items": null,
            "left": null,
            "margin": null,
            "max_height": null,
            "max_width": null,
            "min_height": null,
            "min_width": null,
            "object_fit": null,
            "object_position": null,
            "order": null,
            "overflow": null,
            "overflow_x": null,
            "overflow_y": null,
            "padding": null,
            "right": null,
            "top": null,
            "visibility": null,
            "width": null
          }
        },
        "88b89c787ee14ac38024df0e57017b2e": {
          "model_module": "@jupyter-widgets/base",
          "model_name": "LayoutModel",
          "model_module_version": "1.2.0",
          "state": {
            "_model_module": "@jupyter-widgets/base",
            "_model_module_version": "1.2.0",
            "_model_name": "LayoutModel",
            "_view_count": null,
            "_view_module": "@jupyter-widgets/base",
            "_view_module_version": "1.2.0",
            "_view_name": "LayoutView",
            "align_content": null,
            "align_items": null,
            "align_self": null,
            "border": null,
            "bottom": null,
            "display": null,
            "flex": null,
            "flex_flow": null,
            "grid_area": null,
            "grid_auto_columns": null,
            "grid_auto_flow": null,
            "grid_auto_rows": null,
            "grid_column": null,
            "grid_gap": null,
            "grid_row": null,
            "grid_template_areas": null,
            "grid_template_columns": null,
            "grid_template_rows": null,
            "height": null,
            "justify_content": null,
            "justify_items": null,
            "left": null,
            "margin": null,
            "max_height": null,
            "max_width": null,
            "min_height": null,
            "min_width": null,
            "object_fit": null,
            "object_position": null,
            "order": null,
            "overflow": null,
            "overflow_x": null,
            "overflow_y": null,
            "padding": null,
            "right": null,
            "top": null,
            "visibility": null,
            "width": null
          }
        },
        "d3b1625483c343ad9b2c45f441d01f2b": {
          "model_module": "@jupyter-widgets/controls",
          "model_name": "DescriptionStyleModel",
          "model_module_version": "1.5.0",
          "state": {
            "_model_module": "@jupyter-widgets/controls",
            "_model_module_version": "1.5.0",
            "_model_name": "DescriptionStyleModel",
            "_view_count": null,
            "_view_module": "@jupyter-widgets/base",
            "_view_module_version": "1.2.0",
            "_view_name": "StyleView",
            "description_width": ""
          }
        },
        "0fcef4a77b0542e5be8c2c9bc2106cca": {
          "model_module": "@jupyter-widgets/base",
          "model_name": "LayoutModel",
          "model_module_version": "1.2.0",
          "state": {
            "_model_module": "@jupyter-widgets/base",
            "_model_module_version": "1.2.0",
            "_model_name": "LayoutModel",
            "_view_count": null,
            "_view_module": "@jupyter-widgets/base",
            "_view_module_version": "1.2.0",
            "_view_name": "LayoutView",
            "align_content": null,
            "align_items": null,
            "align_self": null,
            "border": null,
            "bottom": null,
            "display": null,
            "flex": null,
            "flex_flow": null,
            "grid_area": null,
            "grid_auto_columns": null,
            "grid_auto_flow": null,
            "grid_auto_rows": null,
            "grid_column": null,
            "grid_gap": null,
            "grid_row": null,
            "grid_template_areas": null,
            "grid_template_columns": null,
            "grid_template_rows": null,
            "height": null,
            "justify_content": null,
            "justify_items": null,
            "left": null,
            "margin": null,
            "max_height": null,
            "max_width": null,
            "min_height": null,
            "min_width": null,
            "object_fit": null,
            "object_position": null,
            "order": null,
            "overflow": null,
            "overflow_x": null,
            "overflow_y": null,
            "padding": null,
            "right": null,
            "top": null,
            "visibility": null,
            "width": null
          }
        },
        "5c81f696e9c04d63961be1c3d3ccb354": {
          "model_module": "@jupyter-widgets/controls",
          "model_name": "ProgressStyleModel",
          "model_module_version": "1.5.0",
          "state": {
            "_model_module": "@jupyter-widgets/controls",
            "_model_module_version": "1.5.0",
            "_model_name": "ProgressStyleModel",
            "_view_count": null,
            "_view_module": "@jupyter-widgets/base",
            "_view_module_version": "1.2.0",
            "_view_name": "StyleView",
            "bar_color": null,
            "description_width": ""
          }
        },
        "2d80404cb84f4431830145da9b2fedf7": {
          "model_module": "@jupyter-widgets/base",
          "model_name": "LayoutModel",
          "model_module_version": "1.2.0",
          "state": {
            "_model_module": "@jupyter-widgets/base",
            "_model_module_version": "1.2.0",
            "_model_name": "LayoutModel",
            "_view_count": null,
            "_view_module": "@jupyter-widgets/base",
            "_view_module_version": "1.2.0",
            "_view_name": "LayoutView",
            "align_content": null,
            "align_items": null,
            "align_self": null,
            "border": null,
            "bottom": null,
            "display": null,
            "flex": null,
            "flex_flow": null,
            "grid_area": null,
            "grid_auto_columns": null,
            "grid_auto_flow": null,
            "grid_auto_rows": null,
            "grid_column": null,
            "grid_gap": null,
            "grid_row": null,
            "grid_template_areas": null,
            "grid_template_columns": null,
            "grid_template_rows": null,
            "height": null,
            "justify_content": null,
            "justify_items": null,
            "left": null,
            "margin": null,
            "max_height": null,
            "max_width": null,
            "min_height": null,
            "min_width": null,
            "object_fit": null,
            "object_position": null,
            "order": null,
            "overflow": null,
            "overflow_x": null,
            "overflow_y": null,
            "padding": null,
            "right": null,
            "top": null,
            "visibility": null,
            "width": null
          }
        },
        "9b13b82f8c804811bff09356a72e682c": {
          "model_module": "@jupyter-widgets/controls",
          "model_name": "DescriptionStyleModel",
          "model_module_version": "1.5.0",
          "state": {
            "_model_module": "@jupyter-widgets/controls",
            "_model_module_version": "1.5.0",
            "_model_name": "DescriptionStyleModel",
            "_view_count": null,
            "_view_module": "@jupyter-widgets/base",
            "_view_module_version": "1.2.0",
            "_view_name": "StyleView",
            "description_width": ""
          }
        }
      }
    }
  },
  "cells": [
    {
      "cell_type": "markdown",
      "source": [
        "## **Recommendation System Anime**\n",
        "\n",
        "Proyek ini bertujuan untuk memberikan rekomendasi anime kepada user, untuk memudahkan mereka dalam memilih tontonan yang sesuai dengan referensi mereka. Hal ini sangat penting untuk kepentingan bisnis, karena dengan menggunakan sistem rekomendasi, user tidak akan kebingungan lagi dalam memilih anime yang ingin dilihat. Hal ini dapat membuat user mendapatkan pengalaman yang baik dari menonton anime itu sendiri."
      ],
      "metadata": {
        "id": "0ANP9b5X8UfH"
      }
    },
    {
      "cell_type": "markdown",
      "source": [
        "## **Import Library**"
      ],
      "metadata": {
        "id": "Xo-u6hjg9I9d"
      }
    },
    {
      "cell_type": "code",
      "execution_count": 1,
      "metadata": {
        "id": "uVO_LuxWvU3n",
        "colab": {
          "base_uri": "https://localhost:8080/"
        },
        "outputId": "d3c1c1f5-d356-494d-c198-2fb94c960b50"
      },
      "outputs": [
        {
          "output_type": "stream",
          "name": "stdout",
          "text": [
            "Requirement already satisfied: numpy==1.26.4 in /usr/local/lib/python3.11/dist-packages (1.26.4)\n",
            "Requirement already satisfied: pandas in /usr/local/lib/python3.11/dist-packages (2.2.2)\n",
            "Requirement already satisfied: matplotlib in /usr/local/lib/python3.11/dist-packages (3.10.0)\n",
            "Requirement already satisfied: scikit-surprise in /usr/local/lib/python3.11/dist-packages (1.1.4)\n",
            "Requirement already satisfied: python-dateutil>=2.8.2 in /usr/local/lib/python3.11/dist-packages (from pandas) (2.9.0.post0)\n",
            "Requirement already satisfied: pytz>=2020.1 in /usr/local/lib/python3.11/dist-packages (from pandas) (2025.2)\n",
            "Requirement already satisfied: tzdata>=2022.7 in /usr/local/lib/python3.11/dist-packages (from pandas) (2025.2)\n",
            "Requirement already satisfied: contourpy>=1.0.1 in /usr/local/lib/python3.11/dist-packages (from matplotlib) (1.3.2)\n",
            "Requirement already satisfied: cycler>=0.10 in /usr/local/lib/python3.11/dist-packages (from matplotlib) (0.12.1)\n",
            "Requirement already satisfied: fonttools>=4.22.0 in /usr/local/lib/python3.11/dist-packages (from matplotlib) (4.58.1)\n",
            "Requirement already satisfied: kiwisolver>=1.3.1 in /usr/local/lib/python3.11/dist-packages (from matplotlib) (1.4.8)\n",
            "Requirement already satisfied: packaging>=20.0 in /usr/local/lib/python3.11/dist-packages (from matplotlib) (24.2)\n",
            "Requirement already satisfied: pillow>=8 in /usr/local/lib/python3.11/dist-packages (from matplotlib) (11.2.1)\n",
            "Requirement already satisfied: pyparsing>=2.3.1 in /usr/local/lib/python3.11/dist-packages (from matplotlib) (3.2.3)\n",
            "Requirement already satisfied: joblib>=1.2.0 in /usr/local/lib/python3.11/dist-packages (from scikit-surprise) (1.5.1)\n",
            "Requirement already satisfied: scipy>=1.6.0 in /usr/local/lib/python3.11/dist-packages (from scikit-surprise) (1.15.3)\n",
            "Requirement already satisfied: six>=1.5 in /usr/local/lib/python3.11/dist-packages (from python-dateutil>=2.8.2->pandas) (1.17.0)\n"
          ]
        }
      ],
      "source": [
        "!pip install numpy==1.26.4 pandas matplotlib scikit-surprise\n",
        "\n",
        "# Import Library\n",
        "import pandas as pd\n",
        "import numpy as np\n",
        "import matplotlib.pyplot as plt\n",
        "import seaborn as sns\n",
        "import re\n",
        "import random\n",
        "from tabulate import tabulate\n",
        "from nltk.corpus import stopwords\n",
        "from tqdm.notebook import tqdm\n",
        "\n",
        "from surprise import Reader, Dataset, SVD, accuracy\n",
        "from surprise.model_selection import train_test_split, GridSearchCV\n",
        "\n",
        "from sklearn.preprocessing import MultiLabelBinarizer\n",
        "from sklearn.metrics.pairwise import cosine_similarity\n",
        "from sklearn.feature_extraction.text import TfidfVectorizer"
      ]
    },
    {
      "cell_type": "markdown",
      "source": [
        "\n",
        "\n",
        "> Pada cell ini saya mengimport beberapa library yang akan membantu dalam proses membangun recommendation system. Saya juga menurunkan versi numpy agar kompatibel dengan library surprise.\n",
        "\n"
      ],
      "metadata": {
        "id": "ZcCHL8_T9F0_"
      }
    },
    {
      "cell_type": "markdown",
      "source": [
        "## **Loading Dataset**"
      ],
      "metadata": {
        "id": "ltlsGCcD9caZ"
      }
    },
    {
      "cell_type": "code",
      "source": [
        "# Download dan ekstrak dataset\n",
        "\n",
        "from google.colab import files\n",
        "files.upload()\n",
        "\n",
        "!mkdir -p ~/.kaggle\n",
        "!cp kaggle.json ~/.kaggle/\n",
        "!chmod 600 ~/.kaggle/kaggle.json\n",
        "\n",
        "!kaggle datasets download -d CooperUnion/anime-recommendations-database\n",
        "!unzip anime-recommendations-database.zip"
      ],
      "metadata": {
        "colab": {
          "base_uri": "https://localhost:8080/",
          "height": 212
        },
        "id": "eQcQce239fwa",
        "outputId": "d3d50fee-e08e-4472-9d52-bcca6fadfb9f"
      },
      "execution_count": 2,
      "outputs": [
        {
          "output_type": "display_data",
          "data": {
            "text/plain": [
              "<IPython.core.display.HTML object>"
            ],
            "text/html": [
              "\n",
              "     <input type=\"file\" id=\"files-12921aeb-e8b8-4745-ad41-3774f482287e\" name=\"files[]\" multiple disabled\n",
              "        style=\"border:none\" />\n",
              "     <output id=\"result-12921aeb-e8b8-4745-ad41-3774f482287e\">\n",
              "      Upload widget is only available when the cell has been executed in the\n",
              "      current browser session. Please rerun this cell to enable.\n",
              "      </output>\n",
              "      <script>// Copyright 2017 Google LLC\n",
              "//\n",
              "// Licensed under the Apache License, Version 2.0 (the \"License\");\n",
              "// you may not use this file except in compliance with the License.\n",
              "// You may obtain a copy of the License at\n",
              "//\n",
              "//      http://www.apache.org/licenses/LICENSE-2.0\n",
              "//\n",
              "// Unless required by applicable law or agreed to in writing, software\n",
              "// distributed under the License is distributed on an \"AS IS\" BASIS,\n",
              "// WITHOUT WARRANTIES OR CONDITIONS OF ANY KIND, either express or implied.\n",
              "// See the License for the specific language governing permissions and\n",
              "// limitations under the License.\n",
              "\n",
              "/**\n",
              " * @fileoverview Helpers for google.colab Python module.\n",
              " */\n",
              "(function(scope) {\n",
              "function span(text, styleAttributes = {}) {\n",
              "  const element = document.createElement('span');\n",
              "  element.textContent = text;\n",
              "  for (const key of Object.keys(styleAttributes)) {\n",
              "    element.style[key] = styleAttributes[key];\n",
              "  }\n",
              "  return element;\n",
              "}\n",
              "\n",
              "// Max number of bytes which will be uploaded at a time.\n",
              "const MAX_PAYLOAD_SIZE = 100 * 1024;\n",
              "\n",
              "function _uploadFiles(inputId, outputId) {\n",
              "  const steps = uploadFilesStep(inputId, outputId);\n",
              "  const outputElement = document.getElementById(outputId);\n",
              "  // Cache steps on the outputElement to make it available for the next call\n",
              "  // to uploadFilesContinue from Python.\n",
              "  outputElement.steps = steps;\n",
              "\n",
              "  return _uploadFilesContinue(outputId);\n",
              "}\n",
              "\n",
              "// This is roughly an async generator (not supported in the browser yet),\n",
              "// where there are multiple asynchronous steps and the Python side is going\n",
              "// to poll for completion of each step.\n",
              "// This uses a Promise to block the python side on completion of each step,\n",
              "// then passes the result of the previous step as the input to the next step.\n",
              "function _uploadFilesContinue(outputId) {\n",
              "  const outputElement = document.getElementById(outputId);\n",
              "  const steps = outputElement.steps;\n",
              "\n",
              "  const next = steps.next(outputElement.lastPromiseValue);\n",
              "  return Promise.resolve(next.value.promise).then((value) => {\n",
              "    // Cache the last promise value to make it available to the next\n",
              "    // step of the generator.\n",
              "    outputElement.lastPromiseValue = value;\n",
              "    return next.value.response;\n",
              "  });\n",
              "}\n",
              "\n",
              "/**\n",
              " * Generator function which is called between each async step of the upload\n",
              " * process.\n",
              " * @param {string} inputId Element ID of the input file picker element.\n",
              " * @param {string} outputId Element ID of the output display.\n",
              " * @return {!Iterable<!Object>} Iterable of next steps.\n",
              " */\n",
              "function* uploadFilesStep(inputId, outputId) {\n",
              "  const inputElement = document.getElementById(inputId);\n",
              "  inputElement.disabled = false;\n",
              "\n",
              "  const outputElement = document.getElementById(outputId);\n",
              "  outputElement.innerHTML = '';\n",
              "\n",
              "  const pickedPromise = new Promise((resolve) => {\n",
              "    inputElement.addEventListener('change', (e) => {\n",
              "      resolve(e.target.files);\n",
              "    });\n",
              "  });\n",
              "\n",
              "  const cancel = document.createElement('button');\n",
              "  inputElement.parentElement.appendChild(cancel);\n",
              "  cancel.textContent = 'Cancel upload';\n",
              "  const cancelPromise = new Promise((resolve) => {\n",
              "    cancel.onclick = () => {\n",
              "      resolve(null);\n",
              "    };\n",
              "  });\n",
              "\n",
              "  // Wait for the user to pick the files.\n",
              "  const files = yield {\n",
              "    promise: Promise.race([pickedPromise, cancelPromise]),\n",
              "    response: {\n",
              "      action: 'starting',\n",
              "    }\n",
              "  };\n",
              "\n",
              "  cancel.remove();\n",
              "\n",
              "  // Disable the input element since further picks are not allowed.\n",
              "  inputElement.disabled = true;\n",
              "\n",
              "  if (!files) {\n",
              "    return {\n",
              "      response: {\n",
              "        action: 'complete',\n",
              "      }\n",
              "    };\n",
              "  }\n",
              "\n",
              "  for (const file of files) {\n",
              "    const li = document.createElement('li');\n",
              "    li.append(span(file.name, {fontWeight: 'bold'}));\n",
              "    li.append(span(\n",
              "        `(${file.type || 'n/a'}) - ${file.size} bytes, ` +\n",
              "        `last modified: ${\n",
              "            file.lastModifiedDate ? file.lastModifiedDate.toLocaleDateString() :\n",
              "                                    'n/a'} - `));\n",
              "    const percent = span('0% done');\n",
              "    li.appendChild(percent);\n",
              "\n",
              "    outputElement.appendChild(li);\n",
              "\n",
              "    const fileDataPromise = new Promise((resolve) => {\n",
              "      const reader = new FileReader();\n",
              "      reader.onload = (e) => {\n",
              "        resolve(e.target.result);\n",
              "      };\n",
              "      reader.readAsArrayBuffer(file);\n",
              "    });\n",
              "    // Wait for the data to be ready.\n",
              "    let fileData = yield {\n",
              "      promise: fileDataPromise,\n",
              "      response: {\n",
              "        action: 'continue',\n",
              "      }\n",
              "    };\n",
              "\n",
              "    // Use a chunked sending to avoid message size limits. See b/62115660.\n",
              "    let position = 0;\n",
              "    do {\n",
              "      const length = Math.min(fileData.byteLength - position, MAX_PAYLOAD_SIZE);\n",
              "      const chunk = new Uint8Array(fileData, position, length);\n",
              "      position += length;\n",
              "\n",
              "      const base64 = btoa(String.fromCharCode.apply(null, chunk));\n",
              "      yield {\n",
              "        response: {\n",
              "          action: 'append',\n",
              "          file: file.name,\n",
              "          data: base64,\n",
              "        },\n",
              "      };\n",
              "\n",
              "      let percentDone = fileData.byteLength === 0 ?\n",
              "          100 :\n",
              "          Math.round((position / fileData.byteLength) * 100);\n",
              "      percent.textContent = `${percentDone}% done`;\n",
              "\n",
              "    } while (position < fileData.byteLength);\n",
              "  }\n",
              "\n",
              "  // All done.\n",
              "  yield {\n",
              "    response: {\n",
              "      action: 'complete',\n",
              "    }\n",
              "  };\n",
              "}\n",
              "\n",
              "scope.google = scope.google || {};\n",
              "scope.google.colab = scope.google.colab || {};\n",
              "scope.google.colab._files = {\n",
              "  _uploadFiles,\n",
              "  _uploadFilesContinue,\n",
              "};\n",
              "})(self);\n",
              "</script> "
            ]
          },
          "metadata": {}
        },
        {
          "output_type": "stream",
          "name": "stdout",
          "text": [
            "Saving kaggle.json to kaggle.json\n",
            "Dataset URL: https://www.kaggle.com/datasets/CooperUnion/anime-recommendations-database\n",
            "License(s): CC0-1.0\n",
            "Downloading anime-recommendations-database.zip to /content\n",
            "  0% 0.00/25.0M [00:00<?, ?B/s]\n",
            "100% 25.0M/25.0M [00:00<00:00, 1.08GB/s]\n",
            "Archive:  anime-recommendations-database.zip\n",
            "  inflating: anime.csv               \n",
            "  inflating: rating.csv              \n"
          ]
        }
      ]
    },
    {
      "cell_type": "markdown",
      "source": [
        "\n",
        "\n",
        "> Mendownload dan mengekstrak dataset.\n",
        "\n"
      ],
      "metadata": {
        "id": "elYXeKQB-zdb"
      }
    },
    {
      "cell_type": "code",
      "source": [
        "# Membaca dataset\n",
        "\n",
        "anime_df = pd.read_csv('anime.csv')\n",
        "rating_df = pd.read_csv('rating.csv')\n",
        "\n",
        "print(\"Jumlah Data Anime: \", len(anime_df))\n",
        "print(anime_df.head())\n",
        "print(\"\\nJumlah Data Rating: \", len(rating_df))\n",
        "print(rating_df.head())"
      ],
      "metadata": {
        "colab": {
          "base_uri": "https://localhost:8080/"
        },
        "id": "brMvqwQU-z1R",
        "outputId": "755fba38-ed9c-459a-aeff-036967e80c60"
      },
      "execution_count": 3,
      "outputs": [
        {
          "output_type": "stream",
          "name": "stdout",
          "text": [
            "Jumlah Data Anime:  12294\n",
            "   anime_id                              name  \\\n",
            "0     32281                    Kimi no Na wa.   \n",
            "1      5114  Fullmetal Alchemist: Brotherhood   \n",
            "2     28977                          Gintama°   \n",
            "3      9253                       Steins;Gate   \n",
            "4      9969                     Gintama&#039;   \n",
            "\n",
            "                                               genre   type episodes  rating  \\\n",
            "0               Drama, Romance, School, Supernatural  Movie        1    9.37   \n",
            "1  Action, Adventure, Drama, Fantasy, Magic, Mili...     TV       64    9.26   \n",
            "2  Action, Comedy, Historical, Parody, Samurai, S...     TV       51    9.25   \n",
            "3                                   Sci-Fi, Thriller     TV       24    9.17   \n",
            "4  Action, Comedy, Historical, Parody, Samurai, S...     TV       51    9.16   \n",
            "\n",
            "   members  \n",
            "0   200630  \n",
            "1   793665  \n",
            "2   114262  \n",
            "3   673572  \n",
            "4   151266  \n",
            "\n",
            "Jumlah Data Rating:  7813737\n",
            "   user_id  anime_id  rating\n",
            "0        1        20      -1\n",
            "1        1        24      -1\n",
            "2        1        79      -1\n",
            "3        1       226      -1\n",
            "4        1       241      -1\n"
          ]
        }
      ]
    },
    {
      "cell_type": "markdown",
      "source": [
        "\n",
        "\n",
        "> Menampilkan jumlah data, 5 data pertama, dan mendefinisikan dataset animec.csv sebagai anime_df, dan rating.csv sebagai rating_df.\n",
        "\n"
      ],
      "metadata": {
        "id": "B6V4T6kp_I3n"
      }
    },
    {
      "cell_type": "markdown",
      "source": [
        "## **Exploratory Data Analysis**"
      ],
      "metadata": {
        "id": "D6sljBTrGs2n"
      }
    },
    {
      "cell_type": "code",
      "source": [
        "# Menampilkan plot distribusi rating\n",
        "\n",
        "plt.figure(figsize=(10, 6))\n",
        "sns.histplot(anime_df['rating'], bins=20, kde=True)\n",
        "plt.title('Distribusi Rating Anime')\n",
        "plt.xlabel('Rating')\n",
        "plt.ylabel('Frekuensi')\n",
        "plt.show()"
      ],
      "metadata": {
        "colab": {
          "base_uri": "https://localhost:8080/",
          "height": 548
        },
        "id": "fhZjPKOcHV1F",
        "outputId": "a65d9495-f409-4dc1-9cc4-0884f8a578c0"
      },
      "execution_count": 4,
      "outputs": [
        {
          "output_type": "display_data",
          "data": {
            "text/plain": [
              "<Figure size 1000x600 with 1 Axes>"
            ],
            "image/png": "[encoded data removed]"
          },
          "metadata": {}
        }
      ]
    },
    {
      "cell_type": "markdown",
      "source": [
        "\n",
        "\n",
        "> Menampilkan distribusi rating dari dataset. Dari histogram, terlihat bahwa mayoritas anime mendapatkan rating sekitar 6, dengan frekuensi yang menurun pada rating yang lebih tinggi atau lebih rendah. Ini mengindikasikan bahwa rating cenderung berkumpul di sekitar nilai rata-rata, menurunkan proporsi anime dengan rating ekstrem. Area di bawah kurva menunjukkan frekuensi rating, sedangkan garis di atas histogram adalah kurva distribusi yang menunjukkan bagaimana rating tersebar.\n"
      ],
      "metadata": {
        "id": "6N-SZHfDS8H3"
      }
    },
    {
      "cell_type": "code",
      "source": [
        "# Menampilkan plot distribusi dari fitur genre\n",
        "\n",
        "# Menghitung jumlah genre\n",
        "source_counts = anime_df['genre'].value_counts()\n",
        "\n",
        "# Memilih 10 genre teratas\n",
        "top_genres = source_counts.nlargest(10)\n",
        "\n",
        "# Memperpendek label genre jika panjang\n",
        "top_genres.index = [genre if len(genre) < 15 else genre[:15] + '...' for genre in top_genres.index]\n",
        "\n",
        "# Visualisasi distribusi source\n",
        "plt.figure(figsize=(12, 6))\n",
        "sns.barplot(x=top_genres.index, y=top_genres.values, palette='magma')\n",
        "plt.title('10 Genre Terpopuler', fontsize=16)\n",
        "plt.xlabel('Sumber', fontsize=14)\n",
        "plt.ylabel('Jumlah Anime', fontsize=14)\n",
        "plt.xticks(rotation=45)\n",
        "plt.tight_layout()\n",
        "plt.show()"
      ],
      "metadata": {
        "colab": {
          "base_uri": "https://localhost:8080/",
          "height": 538
        },
        "id": "_yrqsMMdHkIA",
        "outputId": "9dda04c7-1f10-47c2-dc8d-51ff17cfa59e"
      },
      "execution_count": 5,
      "outputs": [
        {
          "output_type": "stream",
          "name": "stderr",
          "text": [
            "<ipython-input-5-848648621>:14: FutureWarning: \n",
            "\n",
            "Passing `palette` without assigning `hue` is deprecated and will be removed in v0.14.0. Assign the `x` variable to `hue` and set `legend=False` for the same effect.\n",
            "\n",
            "  sns.barplot(x=top_genres.index, y=top_genres.values, palette='magma')\n"
          ]
        },
        {
          "output_type": "display_data",
          "data": {
            "text/plain": [
              "<Figure size 1200x600 with 1 Axes>"
            ],
            "image/png": "[encoded data removed]"
          },
          "metadata": {}
        }
      ]
    },
    {
      "cell_type": "markdown",
      "source": [
        "\n",
        "\n",
        "> Pada visualisasi distribusi tersebut menunjukkan top 10 jumlah anime berdasarkan genre terpopuler. Terlihat bahwa anime dengan genre Hentai menjadi anime yang paling banyak di dataset ini, disusul dengan genre lainnya, seperti Comedy, Music, Kids dan seterusnya. Hal ini mencermikan bahwa dalam dataset ini mengandung anime dari berbagai genre."
      ],
      "metadata": {
        "id": "GGObsUT3TGad"
      }
    },
    {
      "cell_type": "code",
      "source": [
        "# Menampilkan plot distribusi dari 10 anime dengan rating terbanyak\n",
        "\n",
        "# Mengambil 10 anime dengan rating tertinggi\n",
        "top_anime = anime_df.nlargest(10, 'rating')\n",
        "\n",
        "# Membuat bar chart untuk rating anime berdasarkan nama\n",
        "plt.figure(figsize=(14, 7))\n",
        "sns.barplot(x='name', y='rating', data=top_anime, palette='magma')\n",
        "plt.title('Top Rated Anime', fontsize=16)\n",
        "plt.xlabel('Anime Name', fontsize=14)\n",
        "plt.ylabel('Rating', fontsize=14)\n",
        "plt.xticks(rotation=60, ha='right')\n",
        "plt.ylim(9, 10)\n",
        "plt.tight_layout()\n",
        "plt.show()"
      ],
      "metadata": {
        "colab": {
          "base_uri": "https://localhost:8080/",
          "height": 541
        },
        "id": "AG6zabChHveP",
        "outputId": "3efc98e9-e27d-484c-d500-28037274a5a1"
      },
      "execution_count": 6,
      "outputs": [
        {
          "output_type": "stream",
          "name": "stderr",
          "text": [
            "<ipython-input-6-1455959631>:8: FutureWarning: \n",
            "\n",
            "Passing `palette` without assigning `hue` is deprecated and will be removed in v0.14.0. Assign the `x` variable to `hue` and set `legend=False` for the same effect.\n",
            "\n",
            "  sns.barplot(x='name', y='rating', data=top_anime, palette='magma')\n"
          ]
        },
        {
          "output_type": "display_data",
          "data": {
            "text/plain": [
              "<Figure size 1400x700 with 1 Axes>"
            ],
            "image/png": "[encoded data removed]"
          },
          "metadata": {}
        }
      ]
    },
    {
      "cell_type": "markdown",
      "source": [
        "\n",
        "\n",
        "> Pada visualisasi ini menampilkan distribusi top 10 anime dengan rating paling tinggi. Terlihat bahwa anime dengan judul \"Taka no Tsume 8: Yoshida-kun no X-Files\" memiliki rating yang sempurna yaitu 10 dari skala 1-10. Dengan melakukan visualisasi anime apa yang memiliki rating tertinggi dapat memberikan pandangan tentang sistem rekomendasi berdasarkan referensi user.\n",
        "\n"
      ],
      "metadata": {
        "id": "4F5iaVnITa_q"
      }
    },
    {
      "cell_type": "markdown",
      "source": [
        "## **Data Preparation**"
      ],
      "metadata": {
        "id": "Wc_ILVBb_Z4t"
      }
    },
    {
      "cell_type": "code",
      "source": [
        "# Melihat informasi tentang dataset dari anime_df\n",
        "print(\"Info dataset\")\n",
        "print(anime_df.info())\n",
        "print(\"\\nJumlah value missing\")\n",
        "print(anime_df.isnull().sum())\n",
        "print(\"\\nJumlah data duplikat\")\n",
        "print(anime_df.duplicated().sum())"
      ],
      "metadata": {
        "colab": {
          "base_uri": "https://localhost:8080/"
        },
        "id": "39DChgH5_kBT",
        "outputId": "93b89748-8657-4e16-ccd6-86313b4e2933"
      },
      "execution_count": 7,
      "outputs": [
        {
          "output_type": "stream",
          "name": "stdout",
          "text": [
            "Info dataset\n",
            "<class 'pandas.core.frame.DataFrame'>\n",
            "RangeIndex: 12294 entries, 0 to 12293\n",
            "Data columns (total 7 columns):\n",
            " #   Column    Non-Null Count  Dtype  \n",
            "---  ------    --------------  -----  \n",
            " 0   anime_id  12294 non-null  int64  \n",
            " 1   name      12294 non-null  object \n",
            " 2   genre     12232 non-null  object \n",
            " 3   type      12269 non-null  object \n",
            " 4   episodes  12294 non-null  object \n",
            " 5   rating    12064 non-null  float64\n",
            " 6   members   12294 non-null  int64  \n",
            "dtypes: float64(1), int64(2), object(4)\n",
            "memory usage: 672.5+ KB\n",
            "None\n",
            "\n",
            "Jumlah value missing\n",
            "anime_id      0\n",
            "name          0\n",
            "genre        62\n",
            "type         25\n",
            "episodes      0\n",
            "rating      230\n",
            "members       0\n",
            "dtype: int64\n",
            "\n",
            "Jumlah data duplikat\n",
            "0\n"
          ]
        }
      ]
    },
    {
      "cell_type": "code",
      "source": [
        "# Melihat informasi tentang dataset dari rating_df\n",
        "print(\"Info dataset\")\n",
        "print(rating_df.info())\n",
        "print(\"\\nJumlah value missing\")\n",
        "print(rating_df.isnull().sum())\n",
        "print(\"\\nJumlah data duplikat\")\n",
        "print(rating_df.duplicated().sum())"
      ],
      "metadata": {
        "colab": {
          "base_uri": "https://localhost:8080/"
        },
        "id": "5lpUP2TZZDpe",
        "outputId": "a2372bff-7f90-415d-904b-d6f3cce2e15a"
      },
      "execution_count": 8,
      "outputs": [
        {
          "output_type": "stream",
          "name": "stdout",
          "text": [
            "Info dataset\n",
            "<class 'pandas.core.frame.DataFrame'>\n",
            "RangeIndex: 7813737 entries, 0 to 7813736\n",
            "Data columns (total 3 columns):\n",
            " #   Column    Dtype\n",
            "---  ------    -----\n",
            " 0   user_id   int64\n",
            " 1   anime_id  int64\n",
            " 2   rating    int64\n",
            "dtypes: int64(3)\n",
            "memory usage: 178.8 MB\n",
            "None\n",
            "\n",
            "Jumlah value missing\n",
            "user_id     0\n",
            "anime_id    0\n",
            "rating      0\n",
            "dtype: int64\n",
            "\n",
            "Jumlah data duplikat\n",
            "1\n"
          ]
        }
      ]
    },
    {
      "cell_type": "markdown",
      "source": [
        "\n",
        "\n",
        "> Melihat informasi dataset seperti tipe data, value yang hilang, dan data duplikat. Proses ini dapat memudahkan cleaning seperti apa yang bisa digunakan.\n",
        "\n"
      ],
      "metadata": {
        "id": "oisLdMRe-f2a"
      }
    },
    {
      "cell_type": "code",
      "source": [
        "# Drop variable yang tidak relevan untuk sistem rekomendasi\n",
        "# Daftar kolom yang ingin dihapus\n",
        "kolom_yang_dihapus = [\n",
        "    'type',\n",
        "    'episodes'\n",
        "]\n",
        "\n",
        "anime_droped = anime_df.drop(columns=kolom_yang_dihapus)\n",
        "\n",
        "# Tampilkan DataFrame yang telah dibersihkan\n",
        "print(anime_droped.info())"
      ],
      "metadata": {
        "id": "Z-aHJ05YBQ4B",
        "colab": {
          "base_uri": "https://localhost:8080/"
        },
        "outputId": "5a019f64-eba5-423c-9014-cf36ba48098a"
      },
      "execution_count": 9,
      "outputs": [
        {
          "output_type": "stream",
          "name": "stdout",
          "text": [
            "<class 'pandas.core.frame.DataFrame'>\n",
            "RangeIndex: 12294 entries, 0 to 12293\n",
            "Data columns (total 5 columns):\n",
            " #   Column    Non-Null Count  Dtype  \n",
            "---  ------    --------------  -----  \n",
            " 0   anime_id  12294 non-null  int64  \n",
            " 1   name      12294 non-null  object \n",
            " 2   genre     12232 non-null  object \n",
            " 3   rating    12064 non-null  float64\n",
            " 4   members   12294 non-null  int64  \n",
            "dtypes: float64(1), int64(2), object(2)\n",
            "memory usage: 480.4+ KB\n",
            "None\n"
          ]
        }
      ]
    },
    {
      "cell_type": "markdown",
      "source": [
        "\n",
        "\n",
        "> Menghapus variable yang tidak relevan untuk digunakan modeling. Disini kita menghapus type dan episodes, yang tidak akan akan berguna untuk model rekomendasi yang kita gunakan.\n",
        "\n"
      ],
      "metadata": {
        "id": "hS4Tx1lHh3PS"
      }
    },
    {
      "cell_type": "code",
      "source": [
        "# Imputasi data missing menggunakan .dropna()\n",
        "\n",
        "print(\"Jumlah value missing sebelum imputasi\")\n",
        "print(anime_df.isnull().sum())\n",
        "\n",
        "anime_clean = anime_droped.dropna()\n",
        "\n",
        "print(\"\\nJumlah value missing setelah imputasi\")\n",
        "print(anime_clean.isnull().sum())\n",
        "\n",
        "total_data_after_drop = anime_clean.shape[0]\n",
        "print(f\"\\nTotal data setelah imputasi dropna: {total_data_after_drop}\")"
      ],
      "metadata": {
        "colab": {
          "base_uri": "https://localhost:8080/"
        },
        "id": "ks5wY4OVh9aJ",
        "outputId": "8bdf659e-e7e7-4e3c-d8e3-f404d62c7ebc"
      },
      "execution_count": 10,
      "outputs": [
        {
          "output_type": "stream",
          "name": "stdout",
          "text": [
            "Jumlah value missing sebelum imputasi\n",
            "anime_id      0\n",
            "name          0\n",
            "genre        62\n",
            "type         25\n",
            "episodes      0\n",
            "rating      230\n",
            "members       0\n",
            "dtype: int64\n",
            "\n",
            "Jumlah value missing setelah imputasi\n",
            "anime_id    0\n",
            "name        0\n",
            "genre       0\n",
            "rating      0\n",
            "members     0\n",
            "dtype: int64\n",
            "\n",
            "Total data setelah imputasi dropna: 12017\n"
          ]
        }
      ]
    },
    {
      "cell_type": "markdown",
      "source": [
        "\n",
        "\n",
        "> Imputasi value yang hilang dengan metode drop, karena efektif dan tidak akan merusak hasil akhir recommendation system.\n",
        "\n"
      ],
      "metadata": {
        "id": "bptQfJhFjDiS"
      }
    },
    {
      "cell_type": "code",
      "source": [
        "# Menghapus value duplikat pada rating.csv\n",
        "print(\"Jumlah data duplikat sebelum dihapus\")\n",
        "print(rating_df.duplicated().sum())\n",
        "\n",
        "rating_clean = rating_df.drop_duplicates()\n",
        "\n",
        "total_data_after_drop_duplicates = rating_clean.shape[0]\n",
        "print(f\"\\nTotal data setelah drop duplicates: {total_data_after_drop_duplicates}\")"
      ],
      "metadata": {
        "colab": {
          "base_uri": "https://localhost:8080/"
        },
        "id": "mpIb1nJljRfw",
        "outputId": "ac389ff5-609f-432d-a126-f65a49639fea"
      },
      "execution_count": 11,
      "outputs": [
        {
          "output_type": "stream",
          "name": "stdout",
          "text": [
            "Jumlah data duplikat sebelum dihapus\n",
            "1\n",
            "\n",
            "Total data setelah drop duplicates: 7813736\n"
          ]
        }
      ]
    },
    {
      "cell_type": "markdown",
      "source": [
        "\n",
        "\n",
        "> Menghapus data duplikat dengan metode drop pada rating.csv untuk menjaga kualitas dataset.\n",
        "\n"
      ],
      "metadata": {
        "id": "oA0Dfa_vUa6r"
      }
    },
    {
      "cell_type": "code",
      "source": [
        "# Menampilkan beberapa data teratas\n",
        "\n",
        "print(\"Data teratas dari anime.csv setelah data preparation\")\n",
        "print(anime_clean.head())\n",
        "print(\"\\nData teratas rating.csv setelah data preparation\")\n",
        "print(rating_clean.head())"
      ],
      "metadata": {
        "colab": {
          "base_uri": "https://localhost:8080/"
        },
        "id": "wq-W_8_3j1Jo",
        "outputId": "045c2e00-da4c-4f4f-aeeb-cfde099a32e8"
      },
      "execution_count": 12,
      "outputs": [
        {
          "output_type": "stream",
          "name": "stdout",
          "text": [
            "Data teratas dari anime.csv setelah data preparation\n",
            "   anime_id                              name  \\\n",
            "0     32281                    Kimi no Na wa.   \n",
            "1      5114  Fullmetal Alchemist: Brotherhood   \n",
            "2     28977                          Gintama°   \n",
            "3      9253                       Steins;Gate   \n",
            "4      9969                     Gintama&#039;   \n",
            "\n",
            "                                               genre  rating  members  \n",
            "0               Drama, Romance, School, Supernatural    9.37   200630  \n",
            "1  Action, Adventure, Drama, Fantasy, Magic, Mili...    9.26   793665  \n",
            "2  Action, Comedy, Historical, Parody, Samurai, S...    9.25   114262  \n",
            "3                                   Sci-Fi, Thriller    9.17   673572  \n",
            "4  Action, Comedy, Historical, Parody, Samurai, S...    9.16   151266  \n",
            "\n",
            "Data teratas rating.csv setelah data preparation\n",
            "   user_id  anime_id  rating\n",
            "0        1        20      -1\n",
            "1        1        24      -1\n",
            "2        1        79      -1\n",
            "3        1       226      -1\n",
            "4        1       241      -1\n"
          ]
        }
      ]
    },
    {
      "cell_type": "markdown",
      "source": [
        "\n",
        "\n",
        "> Mengecek data teratas setelah data preparation untuk memudahkan langkah selanjutnya.\n",
        "\n"
      ],
      "metadata": {
        "id": "XCEYz-ABj-k8"
      }
    },
    {
      "cell_type": "markdown",
      "source": [
        "## **Content-Based Filtering**"
      ],
      "metadata": {
        "id": "QP2PRNZRORs7"
      }
    },
    {
      "cell_type": "code",
      "source": [
        "# Filter menghapus beberapa anime yang memiliki sedikit member untuk efisiensi\n",
        "\n",
        "print(f\"Jumlah anime sebelum difilter: {len(anime_clean)}\")\n",
        "\n",
        "# Hanya mengambil anime yang memiliki lebih dari 1000 members.\n",
        "minimal_members = 1000\n",
        "anime_filtered = anime_clean[anime_clean['members'] > minimal_members].copy()\n",
        "\n",
        "# Reset index agar berurutan dari 0\n",
        "anime_filtered.reset_index(drop=True, inplace=True)\n",
        "\n",
        "print(f\"Jumlah anime setelah difilter: {len(anime_filtered)}\")"
      ],
      "metadata": {
        "id": "SVJ-YSc3tuS-",
        "colab": {
          "base_uri": "https://localhost:8080/"
        },
        "outputId": "20317272-ee8b-4613-c6ae-f92a1bf0040d"
      },
      "execution_count": 13,
      "outputs": [
        {
          "output_type": "stream",
          "name": "stdout",
          "text": [
            "Jumlah anime sebelum difilter: 12017\n",
            "Jumlah anime setelah difilter: 6789\n"
          ]
        }
      ]
    },
    {
      "cell_type": "markdown",
      "source": [
        "\n",
        "\n",
        "> Mengambil anime dengan syarat minimal 1000 members dapat meningkatkan efisiensi pemrosesan, karena mengurangi jumlah anime yang akan dibuat rekomendasi.\n",
        "\n"
      ],
      "metadata": {
        "id": "-yvxfOhZ3akh"
      }
    },
    {
      "cell_type": "code",
      "source": [
        "# Normalisasi fitur genre\n",
        "\n",
        "def normalize_genres(genre_string):\n",
        "    if not isinstance(genre_string, str):\n",
        "        return \"\"\n",
        "\n",
        "    # Convert ke lowercase, dan menghapus koma\n",
        "    genre_list = genre_string.lower().split(',')\n",
        "\n",
        "    # Menghapus spasi pada awal dan akhir genre\n",
        "    # Contoh '  Action ' menjadi 'Action'\n",
        "    cleaned_genres = [genre.strip() for genre in genre_list]\n",
        "\n",
        "    # Gabungkan genre yang sudah bersih menjadi satu string\n",
        "    return \" \".join(cleaned_genres)\n",
        "\n",
        "# Membuat kolom genre_normalized pada dataframe\n",
        "anime_filtered['genre_normalized'] = anime_filtered['genre'].apply(normalize_genres)\n",
        "\n",
        "# Menampilkan 5 data teratas setelah normalisasi\n",
        "print(\"Normalisasi berhasil, genre_normalized ditambahkan\")\n",
        "print(\"Result setelah normalisasi:\")\n",
        "print(anime_filtered[['name', 'genre', 'genre_normalized']].head())"
      ],
      "metadata": {
        "colab": {
          "base_uri": "https://localhost:8080/"
        },
        "id": "o_Y3j4vUUtba",
        "outputId": "d6fc6e39-0bb1-4fd2-d05d-f5c6bfa6a4b5"
      },
      "execution_count": 14,
      "outputs": [
        {
          "output_type": "stream",
          "name": "stdout",
          "text": [
            "Normalisasi berhasil, genre_normalized ditambahkan\n",
            "Result setelah normalisasi:\n",
            "                               name  \\\n",
            "0                    Kimi no Na wa.   \n",
            "1  Fullmetal Alchemist: Brotherhood   \n",
            "2                          Gintama°   \n",
            "3                       Steins;Gate   \n",
            "4                     Gintama&#039;   \n",
            "\n",
            "                                               genre  \\\n",
            "0               Drama, Romance, School, Supernatural   \n",
            "1  Action, Adventure, Drama, Fantasy, Magic, Mili...   \n",
            "2  Action, Comedy, Historical, Parody, Samurai, S...   \n",
            "3                                   Sci-Fi, Thriller   \n",
            "4  Action, Comedy, Historical, Parody, Samurai, S...   \n",
            "\n",
            "                                    genre_normalized  \n",
            "0                  drama romance school supernatural  \n",
            "1  action adventure drama fantasy magic military ...  \n",
            "2  action comedy historical parody samurai sci-fi...  \n",
            "3                                    sci-fi thriller  \n",
            "4  action comedy historical parody samurai sci-fi...  \n"
          ]
        }
      ]
    },
    {
      "cell_type": "markdown",
      "source": [
        "\n",
        "\n",
        "> Melakukan normalisasi pada variable genre untuk memudahkan pemrosesan TF-IDF Vectorizer. Berfungsi untuk membersihkan dan menyatukan genre anime dalam satu string yang rapi. Normalisasi genre ini penting untuk memastikan representasi yang konsisten dan terstruktur, yang akan membantu dalam pemrosesan selanjutnya."
      ],
      "metadata": {
        "id": "1vIosRIZjN79"
      }
    },
    {
      "cell_type": "code",
      "source": [
        "# Vectorisasi TF-IDF\n",
        "\n",
        "print(\"Memulai TF-IDF Vectorization...\")\n",
        "\n",
        "# Inisialisasi TfidfVectorizer dengan parameter max_features\n",
        "vectorizer = TfidfVectorizer(stop_words='english', max_features=10000)\n",
        "\n",
        "# Proses fit_transform untuk mengubah teks genre menjadi matriks angka (TF-IDF)\n",
        "tfidf_matrix = vectorizer.fit_transform(anime_filtered['genre_normalized'])\n",
        "\n",
        "print(\"TF-IDF vectorization sudah selesai.\")\n",
        "print(\"Shape dari TF-IDF matrix:\", tfidf_matrix.shape)"
      ],
      "metadata": {
        "colab": {
          "base_uri": "https://localhost:8080/"
        },
        "id": "WZM49WxXmtBD",
        "outputId": "bad6da71-4cdf-457b-cfbb-bf685235319c"
      },
      "execution_count": 15,
      "outputs": [
        {
          "output_type": "stream",
          "name": "stdout",
          "text": [
            "Memulai TF-IDF Vectorization...\n",
            "TF-IDF vectorization sudah selesai.\n",
            "Shape dari TF-IDF matrix: (6789, 46)\n"
          ]
        }
      ]
    },
    {
      "cell_type": "markdown",
      "source": [
        "\n",
        "\n",
        "> Melakukan vectorisasi teks menggunakan TF-IDF untuk mengubah deskripsi genre anime menjadi matriks angka yang dapat diproses oleh model machine learning. Matriks TF-IDF yang dihasilkan akan digunakan sebagai fitur input untuk model machine learning selanjutnya\n",
        "\n"
      ],
      "metadata": {
        "id": "Pk1LKB6ZTWPA"
      }
    },
    {
      "cell_type": "code",
      "source": [
        "# Menghitung Cosine Similarity\n",
        "\n",
        "print(\"Calculating cosine similarity...\")\n",
        "\n",
        "cosine_sim = cosine_similarity(tfidf_matrix)\n",
        "\n",
        "print(\"Cosine similarity matrix created successfully.\")\n",
        "print(\"Shape of the similarity matrix:\", cosine_sim.shape)"
      ],
      "metadata": {
        "id": "5oFT2DGMn9_7",
        "colab": {
          "base_uri": "https://localhost:8080/"
        },
        "outputId": "1a40bf18-7cbf-4370-c70a-6b39dceb8fe8"
      },
      "execution_count": 16,
      "outputs": [
        {
          "output_type": "stream",
          "name": "stdout",
          "text": [
            "Calculating cosine similarity...\n",
            "Cosine similarity matrix created successfully.\n",
            "Shape of the similarity matrix: (6789, 6789)\n"
          ]
        }
      ]
    },
    {
      "cell_type": "markdown",
      "source": [
        "\n",
        "\n",
        "> Menghitung kemiripan genre dengan matriks yang sudah dibuat oleh TF-IDF Vectorizer. Dengan memiliki matriks kesamaan cosinus, sistem rekomendasi dapat menerapkan strategi rekomendasi berbasis konten yang lebih canggih untuk memberikan rekomendasi yang relevan bagi pengguna.\n",
        "\n"
      ],
      "metadata": {
        "id": "HtO49lCMdZUA"
      }
    },
    {
      "cell_type": "code",
      "source": [
        "# Membuat model rekomendasi\n",
        "\n",
        "# Membuat jalur dari judul ke indeks\n",
        "indices = pd.Series(anime_filtered.index, index=anime_filtered['name']).drop_duplicates()\n",
        "\n",
        "# Membuat fungsi rekomendasi\n",
        "def get_recommendations(title, cosine_sim_matrix=cosine_sim, index_map=indices):\n",
        "    matching_title = None\n",
        "    for original_name in index_map.index:\n",
        "        if title.lower() == original_name.lower():\n",
        "            matching_title = original_name\n",
        "            break\n",
        "\n",
        "    if matching_title is None:\n",
        "        # Kembalikan None untuk kedua nilai jika tidak ditemukan\n",
        "        return f\"Anime dengan judul '{title}' tidak ditemukan di dataset. (┬┬﹏┬┬)\", None\n",
        "\n",
        "    try:\n",
        "        idx = index_map[matching_title]\n",
        "    except KeyError:\n",
        "        return f\"Anime dengan judul '{matching_title}' tidak ditemukan di dataset. (┬┬﹏┬┬)\", None\n",
        "\n",
        "    if isinstance(idx, pd.Series):\n",
        "        idx = idx.iloc[0]\n",
        "\n",
        "    sim_scores = sorted(list(enumerate(cosine_sim_matrix[idx])), key=lambda x: x[1], reverse=True)\n",
        "\n",
        "    # Filtering\n",
        "    recommendations_indices = []\n",
        "    recommended_titles_seen = set()\n",
        "    base_name = matching_title.lower().split(':')[0].strip()\n",
        "\n",
        "    for anime_idx, score in sim_scores:\n",
        "        if len(recommendations_indices) >= 10:\n",
        "            break\n",
        "        recommended_title = anime_filtered['name'].iloc[anime_idx]\n",
        "        if anime_idx == idx or recommended_title in recommended_titles_seen or base_name in recommended_title.lower():\n",
        "            continue\n",
        "\n",
        "        recommendations_indices.append(anime_idx)\n",
        "        recommended_titles_seen.add(recommended_title)\n",
        "\n",
        "    if not recommendations_indices:\n",
        "        return \"Maaf, kami tidak dapat menemukan anime dengan genre yang mirip. (┬┬﹏┬┬)\", matching_title\n",
        "\n",
        "    return anime_filtered.iloc[recommendations_indices], matching_title"
      ],
      "metadata": {
        "id": "AlSWGLGKH2p1"
      },
      "execution_count": 17,
      "outputs": []
    },
    {
      "cell_type": "markdown",
      "source": [
        "\n",
        "\n",
        "> Membuat fungsi rekomendasi dengan beberapa fungsi. Fungsi utamanya adalah mengubah inputan supaya tidak *case sensitive*, membuat filter agar anime yang diinputkan oleh user tidak tampil di rekomendasi, dan tidak menghasilkan anime dengan nama franchise yang sama. Hal ini efektif untuk menghasilkan output terbaik\n",
        "\n"
      ],
      "metadata": {
        "id": "D6PSdJStdrEo"
      }
    },
    {
      "cell_type": "code",
      "source": [
        "# Penggunaan sistem rekomendasi\n",
        "\n",
        "# Input dari user\n",
        "anime_title_input = input(\"Masukkan judul anime yang kamu suka (Judul menurut versi jepang yah (●'◡'●)): \")\n",
        "\n",
        "# Panggil fungsi untuk mendapatkan dua nilai, rekomendasi dan judul yang cocok\n",
        "recommendations, matched_title = get_recommendations(anime_title_input)\n",
        "\n",
        "print(\"\\n\" + \"=\"*80)\n",
        "\n",
        "# Cek apakah rekomendasi berhasil didapatkan\n",
        "if isinstance(recommendations, pd.DataFrame):\n",
        "    try:\n",
        "        # Gunakan 'matched_title' untuk mencari\n",
        "        input_anime_details = anime_filtered[anime_filtered['name'] == matched_title].head(1)\n",
        "\n",
        "        # Siapkan DataFrame untuk ditampilkan\n",
        "        input_display_df = input_anime_details[['name', 'genre', 'rating']].rename(columns={\n",
        "            'name': 'Judul anime',\n",
        "            'genre': 'Genre',\n",
        "            'rating': 'Rating'\n",
        "        })\n",
        "\n",
        "        print(\"--- Detail anime yang kamu input ---\")\n",
        "        print(tabulate(input_display_df, headers='keys', tablefmt='pretty', showindex=False))\n",
        "        print(\"\\n\" + \"-\"*80 + \"\\n\")\n",
        "    except Exception as e:\n",
        "        print(f\"Tidak dapat menampilkan anime. error: {e}\")\n",
        "\n",
        "    # Menampilkan hasil rekomendasi\n",
        "    print(f\"--- Top 10 anime yang mirip dengan '{matched_title}' ---\")\n",
        "\n",
        "    recommendations_display_df = recommendations[['name', 'genre', 'rating']].rename(columns={\n",
        "        'name': 'Judul Rekomendasi',\n",
        "        'genre': 'Genre',\n",
        "        'rating': 'Rating'\n",
        "    })\n",
        "\n",
        "    print(tabulate(recommendations_display_df, headers='keys', tablefmt='pretty', showindex=False))\n",
        "\n",
        "# Jika anime tidak ditemukan, cetak pesan error\n",
        "else:\n",
        "    print(recommendations)\n",
        "\n",
        "print(\"=\"*80)"
      ],
      "metadata": {
        "colab": {
          "base_uri": "https://localhost:8080/"
        },
        "id": "6Q-zCmnYvAs_",
        "outputId": "f8d578aa-4cd1-4751-ca45-266808cd9cbc"
      },
      "execution_count": 18,
      "outputs": [
        {
          "output_type": "stream",
          "name": "stdout",
          "text": [
            "Masukkan judul anime yang kamu suka (Judul menurut versi jepang yah (●'◡'●)): Shingeki no kyojin\n",
            "\n",
            "================================================================================\n",
            "--- Detail anime yang kamu input ---\n",
            "+--------------------+----------------------------------------------+--------+\n",
            "|    Judul anime     |                    Genre                     | Rating |\n",
            "+--------------------+----------------------------------------------+--------+\n",
            "| Shingeki no Kyojin | Action, Drama, Fantasy, Shounen, Super Power |  8.54  |\n",
            "+--------------------+----------------------------------------------+--------+\n",
            "\n",
            "--------------------------------------------------------------------------------\n",
            "\n",
            "--- Top 10 anime yang mirip dengan 'Shingeki no Kyojin' ---\n",
            "+----------------------------------------------------------------------------------------+-----------------------------------------------------------------+--------+\n",
            "|                                   Judul Rekomendasi                                    |                              Genre                              | Rating |\n",
            "+----------------------------------------------------------------------------------------+-----------------------------------------------------------------+--------+\n",
            "|                          Saint Seiya: Meiou Hades Elysion-hen                          |              Action, Fantasy, Shounen, Super Power              |  7.82  |\n",
            "|                                       One Piece                                        | Action, Adventure, Comedy, Drama, Fantasy, Shounen, Super Power |  8.58  |\n",
            "|            One Piece: Episode of Merry - Mou Hitori no Nakama no Monogatari            | Action, Adventure, Comedy, Drama, Fantasy, Shounen, Super Power |  8.29  |\n",
            "|          One Piece: Episode of Nami - Koukaishi no Namida to Nakama no Kizuna          | Action, Adventure, Comedy, Drama, Fantasy, Shounen, Super Power |  8.27  |\n",
            "| One Piece: Episode of Sabo - 3 Kyoudai no Kizuna Kiseki no Saikai to Uketsugareru Ishi | Action, Adventure, Comedy, Drama, Fantasy, Shounen, Super Power |  7.78  |\n",
            "|                                One Piece: Romance Dawn                                 |          Action, Comedy, Fantasy, Shounen, Super Power          |  7.6   |\n",
            "|                             One Piece: Romance Dawn Story                              |          Action, Comedy, Fantasy, Shounen, Super Power          |  7.55  |\n",
            "|                                         X-Men                                          |                   Action, Drama, Super Power                    |  6.51  |\n",
            "|                    Aquarian Age: Saga II - Don&#039;t Forget Me...                     |                   Action, Drama, Super Power                    |  6.04  |\n",
            "|                                       Big Order                                        |                  Action, Shounen, Super Power                   |  6.18  |\n",
            "+----------------------------------------------------------------------------------------+-----------------------------------------------------------------+--------+\n",
            "================================================================================\n"
          ]
        }
      ]
    },
    {
      "cell_type": "markdown",
      "source": [
        "\n",
        "\n",
        "> Menghasilkan output berupa rekomendasi dari input user. Output akan menghasilkan anime dengan genre yang mirip-mirip dengan inputan dari user.\n",
        "\n"
      ],
      "metadata": {
        "id": "r0JOSnzLd2S8"
      }
    },
    {
      "cell_type": "markdown",
      "source": [
        "## **Collaborative Filtering**"
      ],
      "metadata": {
        "id": "x7DU7FI2OZkB"
      }
    },
    {
      "cell_type": "code",
      "source": [
        "# Mengecualikan value -1 pada dataset\n",
        "\n",
        "ratings_final = rating_clean[rating_clean['rating'] != -1].copy()\n",
        "print(f\"Jumlah data setelah memfilter value -1: {len(ratings_final)}\")\n",
        "print(\"Data setelah memfilter value -1:\")\n",
        "print(ratings_final.head())"
      ],
      "metadata": {
        "id": "FAAulmmAOe3C",
        "colab": {
          "base_uri": "https://localhost:8080/"
        },
        "outputId": "c174104c-f97a-45ec-d96e-7e696321b15a"
      },
      "execution_count": 19,
      "outputs": [
        {
          "output_type": "stream",
          "name": "stdout",
          "text": [
            "Jumlah data setelah memfilter value -1: 6337240\n",
            "Data setelah memfilter value -1:\n",
            "     user_id  anime_id  rating\n",
            "47         1      8074      10\n",
            "81         1     11617      10\n",
            "83         1     11757      10\n",
            "101        1     15451      10\n",
            "153        2     11771      10\n"
          ]
        }
      ]
    },
    {
      "cell_type": "markdown",
      "source": [
        "\n",
        "\n",
        "> Mengecualikan data dengan value -1 pada kolom rating, karena tidak relevan untuk proses collaborative filtering (-1 dianggap sebagai user yang tidak memberikan rating walaupun sudah menonton animenya)\n",
        "\n"
      ],
      "metadata": {
        "id": "DDn9rJxNmsbb"
      }
    },
    {
      "cell_type": "code",
      "source": [
        "# Mengambil sample data untuk efisiensi pemrosesan\n",
        "\n",
        "print(f\"Jumlah rating bersih sebelum sampling: {len(ratings_final)}\")\n",
        "df_subset = ratings_final.sample(n=500000, random_state=42)\n",
        "print(f\"Menggunakan {len(df_subset)} rating untuk melatih model setelah sampling.\")"
      ],
      "metadata": {
        "colab": {
          "base_uri": "https://localhost:8080/"
        },
        "id": "myRyeTy1niFl",
        "outputId": "851ecf88-baed-4fc2-ea87-f25b536cd779"
      },
      "execution_count": 20,
      "outputs": [
        {
          "output_type": "stream",
          "name": "stdout",
          "text": [
            "Jumlah rating bersih sebelum sampling: 6337240\n",
            "Menggunakan 500000 rating untuk melatih model setelah sampling.\n"
          ]
        }
      ]
    },
    {
      "cell_type": "markdown",
      "source": [
        "\n",
        "\n",
        "> Mengambil 500.000 sampel dari dataset rating untuk meningkatkan efisiensi pemrosesan model.\n",
        "\n"
      ],
      "metadata": {
        "id": "PD9jUBDWnzhN"
      }
    },
    {
      "cell_type": "code",
      "source": [
        "# Memuat Data ke dalam Format Library Surprise\n",
        "print(\"\\nMengubah data ke format 'Surprise'...\")\n",
        "# Definisikan 'Reader' dengan skala rating dari 1 hingga 10.\n",
        "reader = Reader(rating_scale=(1, 10))\n",
        "# Muat data dari DataFrame subset\n",
        "data = Dataset.load_from_df(df_subset[['user_id', 'anime_id', 'rating']], reader)\n",
        "print(\"Data berhasil dimuat ke format Surprise.\")"
      ],
      "metadata": {
        "colab": {
          "base_uri": "https://localhost:8080/"
        },
        "id": "Gx_cUgo-nQjl",
        "outputId": "345f1122-0fb9-4f0c-d4a1-5fe2c8ae44c4"
      },
      "execution_count": 21,
      "outputs": [
        {
          "output_type": "stream",
          "name": "stdout",
          "text": [
            "\n",
            "Mengubah data ke format 'Surprise'...\n",
            "Data berhasil dimuat ke format Surprise.\n"
          ]
        }
      ]
    },
    {
      "cell_type": "markdown",
      "source": [
        "\n",
        "\n",
        "> Mengubah data menjadi format surprise yang akan digunakan untuk pemodelan sistem rekomendasi. Mendefinisikan rating sebagai 1-10. Format ini juga memudahkan evaluasi model, seperti melakukan cross-validation dan menghitung metrik evaluasi yang diperlukan.\n",
        "\n"
      ],
      "metadata": {
        "id": "viSZdVF04B2A"
      }
    },
    {
      "cell_type": "code",
      "source": [
        "# Split data\n",
        "print(\"Membagi data menjadi training set dan testing set...\")\n",
        "trainset, testset = train_test_split(data, test_size=0.20, random_state=42)"
      ],
      "metadata": {
        "colab": {
          "base_uri": "https://localhost:8080/"
        },
        "id": "_KyMreimHlGx",
        "outputId": "9b70cf74-355d-4e01-ef07-3c6702d4e073"
      },
      "execution_count": 22,
      "outputs": [
        {
          "output_type": "stream",
          "name": "stdout",
          "text": [
            "Membagi data menjadi training set dan testing set...\n"
          ]
        }
      ]
    },
    {
      "cell_type": "markdown",
      "source": [
        "\n",
        "\n",
        "> Melakukan splitting data dengan 20% data dialokasikan untuk pengujian.\n",
        "\n"
      ],
      "metadata": {
        "id": "pqBNIuTkHu7X"
      }
    },
    {
      "cell_type": "code",
      "source": [
        "# Training model\n",
        "\n",
        "print(\"Melatih model pada training set...\")\n",
        "algo = SVD(n_factors=100, n_epochs=20, random_state=42)\n",
        "algo.fit(trainset)\n",
        "\n",
        "# Melakukan prediksi pada testing\n",
        "print(\"Melakukan prediksi pada testing set...\")\n",
        "predictions = algo.test(testset)\n",
        "\n",
        "# Menghitung skor prediksi dari RMSE dan MAE\n",
        "print(\"\\n--- Hasil Evaluasi Model ---\")\n",
        "rmse = accuracy.rmse(predictions)\n",
        "mae = accuracy.mae(predictions)\n",
        "\n",
        "print(f\"RMSE (Root Mean Squared Error): {rmse}\")\n",
        "print(f\"MAE (Mean Absolute Error):      {mae}\")"
      ],
      "metadata": {
        "colab": {
          "base_uri": "https://localhost:8080/"
        },
        "id": "M0kwbs5KoQI2",
        "outputId": "78c13c71-cb80-4c72-f92b-834afd159a5d"
      },
      "execution_count": 23,
      "outputs": [
        {
          "output_type": "stream",
          "name": "stdout",
          "text": [
            "Melatih model pada training set...\n",
            "Melakukan prediksi pada testing set...\n",
            "\n",
            "--- Hasil Evaluasi Model ---\n",
            "RMSE: 1.3122\n",
            "MAE:  1.0078\n",
            "RMSE (Root Mean Squared Error): 1.3121737231759676\n",
            "MAE (Mean Absolute Error):      1.0077963533800085\n"
          ]
        }
      ]
    },
    {
      "cell_type": "markdown",
      "source": [
        "\n",
        "\n",
        "> SVD akan melakukan pelatihan dengan parameter sederhana. Setelah pelatihan akan menghasilkan skor evaluasi yang bisa digunakan untuk patokan melakukan Hyperparameter atau tidak.\n"
      ],
      "metadata": {
        "id": "qJsZBaudqelI"
      }
    },
    {
      "cell_type": "code",
      "source": [
        "# Hyperparameter tuning menggunakan GridSearchCV\n",
        "\n",
        "# Menentukan parameter\n",
        "param_grid = {\n",
        "    \"n_factors\": [50, 100, 150],\n",
        "    \"n_epochs\": [20, 30],\n",
        "    \"lr_all\": [0.005, 0.01],\n",
        "    \"reg_all\": [0.02, 0.1, 0.4]\n",
        "}\n",
        "\n",
        "# Inisialisasi GridSearchCV\n",
        "gs = GridSearchCV(\n",
        "    SVD,\n",
        "    param_grid,\n",
        "    measures=[\"rmse\", \"mae\"],\n",
        "    cv=3,\n",
        "    joblib_verbose=3\n",
        ")\n",
        "\n",
        "# Jalankan pencarian pada data\n",
        "print(\"Memulai GridSearchCV untuk mencari parameter terbaik...\")\n",
        "gs.fit(data)\n",
        "\n",
        "# Tampilkan hasil terbaik\n",
        "print(\"\\n--- Hasil GridSearchCV ---\")\n",
        "\n",
        "# Skor RMSE terbaik yang ditemukan\n",
        "print(f\"Skor RMSE terbaik: {gs.best_score['rmse']:.4f}\")\n",
        "\n",
        "# Kombinasi parameter yang menghasilkan skor terbaik\n",
        "print(\"Parameter terbaik:\")\n",
        "print(gs.best_params['rmse'])"
      ],
      "metadata": {
        "colab": {
          "base_uri": "https://localhost:8080/"
        },
        "id": "r4-q6fPQqcSK",
        "outputId": "ffac1277-b61d-4b2c-b349-e665f29db38c"
      },
      "execution_count": 24,
      "outputs": [
        {
          "output_type": "stream",
          "name": "stdout",
          "text": [
            "Memulai GridSearchCV untuk mencari parameter terbaik...\n"
          ]
        },
        {
          "output_type": "stream",
          "name": "stderr",
          "text": [
            "[Parallel(n_jobs=1)]: Done  31 tasks      | elapsed:  4.7min\n"
          ]
        },
        {
          "output_type": "stream",
          "name": "stdout",
          "text": [
            "\n",
            "--- Hasil GridSearchCV ---\n",
            "Skor RMSE terbaik: 1.2855\n",
            "Parameter terbaik:\n",
            "{'n_factors': 50, 'n_epochs': 30, 'lr_all': 0.005, 'reg_all': 0.1}\n"
          ]
        },
        {
          "output_type": "stream",
          "name": "stderr",
          "text": [
            "[Parallel(n_jobs=1)]: Done 108 out of 108 | elapsed: 20.4min finished\n"
          ]
        }
      ]
    },
    {
      "cell_type": "markdown",
      "source": [
        "\n",
        "\n",
        "> Menggunakan hyperparameter tuning untuk mendapatkan parameter terbaik untuk training model SVD menggunakan GridSearchCV. Parameter yang akan diuji didefinisikan dalam dictionary, termasuk jumlah faktor, jumlah epoch, learning rate, dan regularisasi. Hyperparameter tuning berguna sekali untuk mendapatkan parameter terbaik agar model mendapatkan hasil dengan maksimal.\n",
        "\n"
      ],
      "metadata": {
        "id": "7p1ClnIA4W5c"
      }
    },
    {
      "cell_type": "code",
      "source": [
        "# Melatih model final menggunakan parameter terbaik\n",
        "print(\"Melatih model final menggunakan parameter terbaik dari GridSearchCV...\")\n",
        "\n",
        "# Ambil dictionary berisi parameter terbaik\n",
        "best_params = gs.best_params['rmse']\n",
        "\n",
        "# Inisialisasi model SVD baru dengan parameter terbaik\n",
        "algo_final = SVD(**best_params, random_state=42, verbose=True)\n",
        "\n",
        "# Latih model pada keseluruhan data\n",
        "print(\"Melatih model final pada data yang telah disiapkan...\")\n",
        "full_trainset = data.build_full_trainset()\n",
        "algo_final.fit(full_trainset)\n",
        "\n",
        "print(\"Model final berhasil dilatih!\")"
      ],
      "metadata": {
        "colab": {
          "base_uri": "https://localhost:8080/"
        },
        "id": "3XOG8nJgserD",
        "outputId": "d86ab1e3-960c-44e2-d8b1-1edd5f57569d"
      },
      "execution_count": 25,
      "outputs": [
        {
          "output_type": "stream",
          "name": "stdout",
          "text": [
            "Melatih model final menggunakan parameter terbaik dari GridSearchCV...\n",
            "Melatih model final pada data yang telah disiapkan...\n",
            "Processing epoch 0\n",
            "Processing epoch 1\n",
            "Processing epoch 2\n",
            "Processing epoch 3\n",
            "Processing epoch 4\n",
            "Processing epoch 5\n",
            "Processing epoch 6\n",
            "Processing epoch 7\n",
            "Processing epoch 8\n",
            "Processing epoch 9\n",
            "Processing epoch 10\n",
            "Processing epoch 11\n",
            "Processing epoch 12\n",
            "Processing epoch 13\n",
            "Processing epoch 14\n",
            "Processing epoch 15\n",
            "Processing epoch 16\n",
            "Processing epoch 17\n",
            "Processing epoch 18\n",
            "Processing epoch 19\n",
            "Processing epoch 20\n",
            "Processing epoch 21\n",
            "Processing epoch 22\n",
            "Processing epoch 23\n",
            "Processing epoch 24\n",
            "Processing epoch 25\n",
            "Processing epoch 26\n",
            "Processing epoch 27\n",
            "Processing epoch 28\n",
            "Processing epoch 29\n",
            "Model final berhasil dilatih!\n"
          ]
        }
      ]
    },
    {
      "cell_type": "markdown",
      "source": [
        "\n",
        "\n",
        "> Training model menggunakan algoritma SVD dengan menggunakan parameter terbaik dari Hyperparameter tuning GridSearchCV.\n",
        "\n"
      ],
      "metadata": {
        "id": "9aCNHrnp4fZq"
      }
    },
    {
      "cell_type": "code",
      "source": [
        "# Menampilkan skor dari training dan tuning\n",
        "predictions_on_train_data = algo_final.test(full_trainset.build_testset())\n",
        "\n",
        "print(\"\\n--- Skor Performa pada Data Training ---\")\n",
        "training_rmse = accuracy.rmse(predictions, verbose=False)\n",
        "training_mae = accuracy.mae(predictions, verbose=False)\n",
        "\n",
        "print(f\"Training RMSE: {training_rmse:.4f}\")\n",
        "print(f\"Training MAE:  {training_mae:.4f}\")\n",
        "\n",
        "print(\"\\nSebagai perbandingan:\")\n",
        "\n",
        "try:\n",
        "    print(f\"Testing RMSE (dari GridSearchCV): {gs.best_score['rmse']:.4f}\")\n",
        "    print(f\"Testing MAE (dari GridSearchCV): {gs.best_score['mae']:.4f}\")\n",
        "except NameError:\n",
        "    print(\"Objek GridSearchCV 'gs' tidak ditemukan untuk perbandingan.\")"
      ],
      "metadata": {
        "colab": {
          "base_uri": "https://localhost:8080/"
        },
        "id": "MLSh2WVUs6cx",
        "outputId": "ecd651cd-81e4-4891-a19f-8dcc2f38a116"
      },
      "execution_count": 26,
      "outputs": [
        {
          "output_type": "stream",
          "name": "stdout",
          "text": [
            "\n",
            "--- Skor Performa pada Data Training ---\n",
            "Training RMSE: 1.3122\n",
            "Training MAE:  1.0078\n",
            "\n",
            "Sebagai perbandingan:\n",
            "Testing RMSE (dari GridSearchCV): 1.2855\n",
            "Testing MAE (dari GridSearchCV): 0.9849\n"
          ]
        }
      ]
    },
    {
      "cell_type": "markdown",
      "source": [
        "\n",
        "\n",
        "> Evaluasi dan membandingkan model dengan dan tanpa Hyperparameter. Terlihat hasil yang lumayan signifikan, yang sebelumnya training RMSE menghasilkan nilai 1.3122, setelah melakukan Hyperparameter tuning menggunakan GridSearchCV menghasilkan nilai 1.2849. Nilai RMSE yang lebih rendah menunjukkan performa yang lebih baik.\n",
        "\n",
        "\n",
        "\n"
      ],
      "metadata": {
        "id": "BhkM8Fq04o5g"
      }
    },
    {
      "cell_type": "code",
      "source": [
        "# Membuat fungsi rekomendasi\n",
        "\n",
        "def get_collaborative_recommendations(user_id, model, n=10):\n",
        "    # Menyiapkan daftar anime\n",
        "    all_anime_ids = anime_df['anime_id'].unique()\n",
        "    watched_anime_ids = rating_clean[rating_clean['user_id'] == user_id]['anime_id'].unique()\n",
        "    unwatched_anime_ids = np.setdiff1d(all_anime_ids, watched_anime_ids)\n",
        "\n",
        "    # Prediksi rating untuk semua anime yang belum ditonton\n",
        "    predictions = [model.predict(user_id, anime_id) for anime_id in unwatched_anime_ids]\n",
        "\n",
        "    # Urutkan prediksi berdasarkan estimasi rating dari yang tertinggi\n",
        "    predictions.sort(key=lambda x: x.est, reverse=True)\n",
        "\n",
        "    # Prediksi teratas\n",
        "    top_n_predictions = predictions[:n]\n",
        "\n",
        "    # Menyiapkan hasil akhir untuk ditampilkan\n",
        "    recommended_anime_ids = [pred.iid for pred in top_n_predictions]\n",
        "    recommendations_df = anime_df[anime_df['anime_id'].isin(recommended_anime_ids)].copy()\n",
        "\n",
        "    # Tambahkan kolom prediksi rating untuk memberikan konteks\n",
        "    predicted_ratings = {pred.iid: pred.est for pred in top_n_predictions}\n",
        "    recommendations_df['predicted_rating'] = recommendations_df['anime_id'].map(predicted_ratings)\n",
        "\n",
        "    # Urutkan sekali lagi untuk memastikan urutan output sesuai prediksi rating\n",
        "    recommendations_df = recommendations_df.sort_values(by='predicted_rating', ascending=False)\n",
        "\n",
        "    return recommendations_df[['name', 'genre', 'rating', 'predicted_rating']]"
      ],
      "metadata": {
        "id": "UcgpbCnC0Gw8"
      },
      "execution_count": 27,
      "outputs": []
    },
    {
      "cell_type": "markdown",
      "source": [
        "\n",
        "\n",
        "> Membuat fungsi rekomendasi dari daftar anime, kemudian mengambil judul anime yang belum pernah ditonton untuk hasil dari rekomendasinya. Menampilkan top 20 anime rekomendasi dan mengurutkannya dengan rekomendasi paling tinggi hingga rendah.\n",
        "\n"
      ],
      "metadata": {
        "id": "6fL2Jwsk8IZG"
      }
    },
    {
      "cell_type": "code",
      "source": [
        "# Penggunaan sistem rekomendasi\n",
        "\n",
        "# Input dari user\n",
        "user_id_input_str = input(\"Masukkan User ID yang ingin Anda lihat rekomendasinya: \")\n",
        "\n",
        "try:\n",
        "    target_user_id = int(user_id_input_str)\n",
        "    print(f\"\\nMenghasilkan rekomendasi untuk User ID: {target_user_id}...\")\n",
        "    user_recommendations = get_collaborative_recommendations(target_user_id, model=algo_final, n=20) # Mengeluarkan rekomendasi sebanyak 20\n",
        "\n",
        "    # Tampilkan Hasil Akhir\n",
        "    print(\"\\n\" + \"=\"*90)\n",
        "\n",
        "    if not user_recommendations.empty:\n",
        "        print(f\"Top 20 Rekomendasi Anime untuk User ID {target_user_id}:\")\n",
        "        print(tabulate(user_recommendations, headers='keys', tablefmt='pretty', showindex=False))\n",
        "    else:\n",
        "        print(f\"Tidak dapat menghasilkan rekomendasi untuk User ID {target_user_id}.\")\n",
        "\n",
        "    print(\"=\"*90)\n",
        "\n",
        "except ValueError:\n",
        "    print(\"\\n[ERROR] Input tidak valid. Harap masukkan User ID dalam bentuk angka.\")\n",
        "except Exception as e:\n",
        "    print(f\"\\n[ERROR] Terjadi sebuah kesalahan: {e}\")"
      ],
      "metadata": {
        "colab": {
          "base_uri": "https://localhost:8080/"
        },
        "id": "WWNC4CtT1CxB",
        "outputId": "d2f01500-06bb-44cb-a6e4-bccfc31d0802"
      },
      "execution_count": 28,
      "outputs": [
        {
          "output_type": "stream",
          "name": "stdout",
          "text": [
            "Masukkan User ID yang ingin Anda lihat rekomendasinya: 512\n",
            "\n",
            "Menghasilkan rekomendasi untuk User ID: 512...\n",
            "\n",
            "==========================================================================================\n",
            "Top 20 Rekomendasi Anime untuk User ID 512:\n",
            "+-----------------------------------------------------------+------------------------------------------------------------------------------+--------+-------------------+\n",
            "|                           name                            |                                    genre                                     | rating | predicted_rating  |\n",
            "+-----------------------------------------------------------+------------------------------------------------------------------------------+--------+-------------------+\n",
            "|                   Ginga Eiyuu Densetsu                    |                        Drama, Military, Sci-Fi, Space                        |  9.11  |       10.0        |\n",
            "|                         Gintama°                          |         Action, Comedy, Historical, Parody, Samurai, Sci-Fi, Shounen         |  9.25  | 9.954993962998985 |\n",
            "|                       Gintama&#039;                       |         Action, Comedy, Historical, Parody, Samurai, Sci-Fi, Shounen         |  9.16  | 9.820919055124827 |\n",
            "|                   Aria The Origination                    |                   Fantasy, Sci-Fi, Shounen, Slice of Life                    |  8.64  | 9.812845406935264 |\n",
            "|                      Kimi no Na wa.                       |                     Drama, Romance, School, Supernatural                     |  9.37  | 9.790149499428932 |\n",
            "| Haikyuu!!: Karasuno Koukou VS Shiratorizawa Gakuen Koukou |                    Comedy, Drama, School, Shounen, Sports                    |  9.15  | 9.775614296791588 |\n",
            "|                          Gintama                          |         Action, Comedy, Historical, Parody, Samurai, Sci-Fi, Shounen         |  9.04  | 9.77425563633905  |\n",
            "|             Fullmetal Alchemist: Brotherhood              |         Action, Adventure, Drama, Fantasy, Magic, Military, Shounen          |  9.26  | 9.721459218520309 |\n",
            "|    Gintama Movie: Kanketsu-hen - Yorozuya yo Eien Nare    |         Action, Comedy, Historical, Parody, Samurai, Sci-Fi, Shounen         |  9.1   | 9.704998395628895 |\n",
            "|                 Gintama&#039;: Enchousen                  |         Action, Comedy, Historical, Parody, Samurai, Sci-Fi, Shounen         |  9.11  | 9.68364693106518  |\n",
            "|               Ookami Kodomo no Ame to Yuki                |                            Fantasy, Slice of Life                            |  8.84  | 9.629700322629306 |\n",
            "|               Shouwa Genroku Rakugo Shinjuu               |                           Drama, Historical, Josei                           |  8.59  | 9.612913952493304 |\n",
            "|                  Shigatsu wa Kimi no Uso                  |                    Drama, Music, Romance, School, Shounen                    |  8.92  | 9.611393590978649 |\n",
            "|                        Steins;Gate                        |                               Sci-Fi, Thriller                               |  9.17  | 9.599506503227756 |\n",
            "|                   Kemono no Souja Erin                    |                                Drama, Fantasy                                |  8.45  | 9.585503436054198 |\n",
            "|                         Mushishi                          | Adventure, Fantasy, Historical, Mystery, Seinen, Slice of Life, Supernatural |  8.78  | 9.564247879693513 |\n",
            "|                          Monster                          |       Drama, Horror, Mystery, Police, Psychological, Seinen, Thriller        |  8.72  | 9.541797469045102 |\n",
            "|               Mushishi Zoku Shou 2nd Season               | Adventure, Fantasy, Historical, Mystery, Seinen, Slice of Life, Supernatural |  8.88  | 9.53200651255986  |\n",
            "|              Kara no Kyoukai 5: Mujun Rasen               |           Action, Drama, Mystery, Romance, Supernatural, Thriller            |  8.68  | 9.507740986359984 |\n",
            "|                    Mushishi Zoku Shou                     | Adventure, Fantasy, Historical, Mystery, Seinen, Slice of Life, Supernatural |  8.8   | 9.507285281038152 |\n",
            "+-----------------------------------------------------------+------------------------------------------------------------------------------+--------+-------------------+\n",
            "==========================================================================================\n"
          ]
        }
      ]
    },
    {
      "cell_type": "markdown",
      "source": [
        "\n",
        "\n",
        "> Menampilkan hasil rekomendasi 20 anime berdasarkan rekomendasi histori user, dan menambahkan fungsi input dari user untuk memudahkan melihat rekomendasi setiap user. Membuat fungsi agar input hanya dapat diisi dengan angka, dan jika selain angka akan error.\n",
        "\n"
      ],
      "metadata": {
        "id": "wBb_p9na8oCR"
      }
    },
    {
      "cell_type": "markdown",
      "source": [
        "### **EVALUASI MODEL**"
      ],
      "metadata": {
        "id": "TzUdc5pIaySO"
      }
    },
    {
      "cell_type": "markdown",
      "source": [
        "#### Content-Based Filtering"
      ],
      "metadata": {
        "id": "rJnz1CkzqOzS"
      }
    },
    {
      "cell_type": "code",
      "source": [
        "# Evaluasi Model Content-Based Filtering\n",
        "\n",
        "# Persiapan Data dan Pemetaan\n",
        "# Tentukan ambang batas rating dan K\n",
        "RATING_THRESHOLD = 8.0\n",
        "K = 10\n",
        "\n",
        "# Buat pemetaan dari anime_id ke indeks internal matriks\n",
        "id_map = pd.Series(anime_filtered.index, index=anime_filtered['anime_id'])\n",
        "\n",
        "# Ambil sampel pengguna aktif untuk dievaluasi\n",
        "user_activity = rating_clean['user_id'].value_counts()\n",
        "active_users = user_activity[user_activity > 50].index.tolist()\n",
        "test_users = random.sample(active_users, 500) if len(active_users) > 500 else active_users\n",
        "\n",
        "print(f\"Memulai evaluasi pada {len(test_users)} pengguna...\")\n",
        "\n",
        "def get_top_k_similar_by_index(source_idx, k=10):\n",
        "    \"\"\"Fungsi ringan untuk mendapatkan top-k rekomendasi berdasarkan indeks.\"\"\"\n",
        "    # Mengambil skore matriks cosine_sim\n",
        "    sim_scores = list(enumerate(cosine_sim[source_idx]))\n",
        "    sim_scores = sorted(sim_scores, key=lambda x: x[1], reverse=True)\n",
        "\n",
        "    # Ambil indeks dari K anime teratas\n",
        "    top_indices = [i[0] for i in sim_scores[1:k+1]]\n",
        "    return top_indices\n",
        "\n",
        "# Evaluasi\n",
        "precisions, recalls, f1_scores = [], [], []\n",
        "\n",
        "for user_id in tqdm(test_users, desc=\"Mengevaluasi Pengguna\"):\n",
        "\n",
        "    # Dapatkan ID dari semua anime yang disukai pengguna\n",
        "    liked_anime_ids = rating_clean[(rating_clean['user_id'] == user_id) & (rating_clean['rating'] >= RATING_THRESHOLD)]['anime_id']\n",
        "    # Ubah ID anime menjadi indeks internal matriks\n",
        "    liked_indices = [id_map.get(anime_id) for anime_id in liked_anime_ids if anime_id in id_map]\n",
        "    liked_indices = [idx for idx in liked_indices if idx is not None]\n",
        "\n",
        "    if len(liked_indices) < 2:\n",
        "        continue\n",
        "\n",
        "    # Ambil satu sebagai umpan (source), sisanya sebagai jawaban (ground truth)\n",
        "    source_idx = random.choice(liked_indices)\n",
        "    ground_truth_indices = set(liked_indices) - {source_idx}\n",
        "\n",
        "    # Dapatkan rekomendasi\n",
        "    recommended_indices = set(get_top_k_similar_by_index(source_idx, k=K))\n",
        "\n",
        "    # Hitung metrik\n",
        "    hits = len(recommended_indices.intersection(ground_truth_indices))\n",
        "    precision = hits / K\n",
        "    recall = hits / len(ground_truth_indices)\n",
        "    f1 = 2 * (precision * recall) / (precision + recall) if (precision + recall) > 0 else 0\n",
        "\n",
        "    precisions.append(precision)\n",
        "    recalls.append(recall)\n",
        "    f1_scores.append(f1)\n",
        "\n",
        "# Menampilkan hasil akhir\n",
        "avg_precision = np.mean(precisions) if precisions else 0\n",
        "avg_recall = np.mean(recalls) if recalls else 0\n",
        "avg_f1 = np.mean(f1_scores) if f1_scores else 0\n",
        "\n",
        "print(\"\\n--- Hasil Evaluasi ---\")\n",
        "print(f\"Metrik dievaluasi pada {len(precisions)} pengguna dengan K={K}\")\n",
        "print(f\"Rata-rata Precision@{K}: {avg_precision:.4f}\")\n",
        "print(f\"Rata-rata Recall@{K}:    {avg_recall:.4f}\")\n",
        "print(f\"Rata-rata F1-score@{K}:  {avg_f1:.4f}\")"
      ],
      "metadata": {
        "colab": {
          "base_uri": "https://localhost:8080/",
          "height": 171,
          "referenced_widgets": [
            "88e919b6be344b63aac17f843e2c68f1",
            "99b1c1c8b448473ea289b9d08cd07502",
            "adfed4e1ccbb444285573ab45dfa2a88",
            "46ce5fa3396f451c900845b45b49cc95",
            "d76a914027ad40719716f001cd9bfc2f",
            "88b89c787ee14ac38024df0e57017b2e",
            "d3b1625483c343ad9b2c45f441d01f2b",
            "0fcef4a77b0542e5be8c2c9bc2106cca",
            "5c81f696e9c04d63961be1c3d3ccb354",
            "2d80404cb84f4431830145da9b2fedf7",
            "9b13b82f8c804811bff09356a72e682c"
          ]
        },
        "id": "7nRX6odPa5Jn",
        "outputId": "7d5c7f3d-912c-4cef-89a0-169d53de6dcd"
      },
      "execution_count": 29,
      "outputs": [
        {
          "output_type": "stream",
          "name": "stdout",
          "text": [
            "Memulai evaluasi pada 500 pengguna...\n"
          ]
        },
        {
          "output_type": "display_data",
          "data": {
            "text/plain": [
              "Mengevaluasi Pengguna:   0%|          | 0/500 [00:00<?, ?it/s]"
            ],
            "application/vnd.jupyter.widget-view+json": {
              "version_major": 2,
              "version_minor": 0,
              "model_id": "88e919b6be344b63aac17f843e2c68f1"
            }
          },
          "metadata": {}
        },
        {
          "output_type": "stream",
          "name": "stdout",
          "text": [
            "\n",
            "--- Hasil Evaluasi ---\n",
            "Metrik dievaluasi pada 481 pengguna dengan K=10\n",
            "Rata-rata Precision@10: 0.0767\n",
            "Rata-rata Recall@10:    0.0147\n",
            "Rata-rata F1-score@10:  0.0198\n"
          ]
        }
      ]
    },
    {
      "cell_type": "markdown",
      "source": [
        "#### Collaborative Filtering"
      ],
      "metadata": {
        "id": "TkRfjqkqqV5L"
      }
    },
    {
      "cell_type": "code",
      "source": [
        "# Hitung skornya\n",
        "training_rmse = accuracy.rmse(predictions, verbose=False)\n",
        "training_mae = accuracy.mae(predictions, verbose=False)\n",
        "\n",
        "# 2. Siapkan hasil dari GridSearchCV yang sudah disimpan di objek 'gs'\n",
        "tuned_rmse = gs.best_score['rmse']\n",
        "tuned_mae = gs.best_score['mae']\n",
        "\n",
        "\n",
        "# --- Tampilkan Perbandingan ---\n",
        "\n",
        "print(\"\\n\" + \"=\"*55)\n",
        "print(\"--- Perbandingan Skor Model Collaborative Filtering ---\")\n",
        "print(\"=\"*55)\n",
        "\n",
        "print(\"\\nSkor dari Model Final (Dilatih pada Semua Data):\")\n",
        "print(f\"  - Training RMSE: {training_rmse:.4f}\")\n",
        "print(f\"  - Training MAE:  {training_mae:.4f}\")\n",
        "\n",
        "print(\"\\nSkor dari Hasil Hyperparameter Tuning (GridSearchCV):\")\n",
        "print(f\"  - Validation RMSE: {tuned_rmse:.4f}\")\n",
        "print(f\"  - Validation MAE : {tuned_mae:.4f}\")\n",
        "print(\"=\"*55)"
      ],
      "metadata": {
        "colab": {
          "base_uri": "https://localhost:8080/"
        },
        "id": "haCGJj-mqbR3",
        "outputId": "33224095-3ef4-4e81-e9db-9601a40b5ae3"
      },
      "execution_count": 30,
      "outputs": [
        {
          "output_type": "stream",
          "name": "stdout",
          "text": [
            "\n",
            "=======================================================\n",
            "--- Perbandingan Skor Model Collaborative Filtering ---\n",
            "=======================================================\n",
            "\n",
            "Skor dari Model Final (Dilatih pada Semua Data):\n",
            "  - Training RMSE: 1.3122\n",
            "  - Training MAE:  1.0078\n",
            "\n",
            "Skor dari Hasil Hyperparameter Tuning (GridSearchCV):\n",
            "  - Validation RMSE: 1.2855\n",
            "  - Validation MAE : 0.9849\n",
            "=======================================================\n"
          ]
        }
      ]
    }
  ]
}